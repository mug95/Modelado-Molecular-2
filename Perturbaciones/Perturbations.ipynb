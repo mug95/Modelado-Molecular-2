{
 "cells": [
  {
   "cell_type": "markdown",
   "metadata": {},
   "source": [
    "## Teoría de perturbaciones"
   ]
  },
  {
   "cell_type": "markdown",
   "metadata": {},
   "source": [
    "Consiste en resolver un sistema perturbado(se conoce la solución al no perturbado), y donde el interés es conocer la contribución de la parte perturbada $H'$ al nuevo sistema total. "
   ]
  },
  {
   "cell_type": "markdown",
   "metadata": {},
   "source": [
    "$$ H = H^{0} + H'$$"
   ]
  },
  {
   "cell_type": "markdown",
   "metadata": {},
   "source": [
    "Para sistemas no degenerados, la corrección a la energía a primer orden se calcula como \n",
    "\n",
    "$$ E_{n}^{(1)} = \\int\\psi_{n}^{(0)*} H' \\psi_{n}^{(0)}d\\tau$$"
   ]
  },
  {
   "cell_type": "markdown",
   "metadata": {},
   "source": [
    "** Tarea 1 : Programar esta ecuación si conoces $H^{0}$ y sus soluciones. **"
   ]
  },
  {
   "cell_type": "code",
   "execution_count": 16,
   "metadata": {
    "collapsed": false
   },
   "outputs": [
    {
     "name": "stdout",
     "output_type": "stream",
     "text": [
      "Energy level upon which we should perform the perturbation: 1\n",
      "Angular frequency, 1 is suggested: 3\n",
      "Perturbation: x**2\n"
     ]
    },
    {
     "data": {
      "text/latex": [
       "$$\\frac{2.25 \\hbar^{2}}{\\hbar} + 5.48884561404943 \\cdot 10^{29} \\hbar$$"
      ],
      "text/plain": [
       "       2                         \n",
       "2.25⋅h̅                          \n",
       "──────── + 5.48884561404943e+29⋅ℏ\n",
       "   ℏ                             "
      ]
     },
     "execution_count": 16,
     "metadata": {},
     "output_type": "execute_result"
    }
   ],
   "source": [
    "### Solución\n",
    "#Importar de sympy el hamiltoniano y eigenfunciones para el oscilador armónico cuántico\n",
    "from sympy.physics.qho_1d import psi_n\n",
    "from sympy.physics.qho_1d import E_n\n",
    "from sympy import *\n",
    "from sympy import init_printing; init_printing(use_latex = 'mathjax')\n",
    "\n",
    "n, m, m_e, omega, hbar = symbols('n m m_e omega hbar', real = True, constant = True)\n",
    "var('x')\n",
    "\n",
    "m_e = 9.10938356e-31\n",
    "#Necesitamos seleccionar un nivel energético, sobre el cual realizar la corrección debida a la perturbación\n",
    "n = Abs(sympify(input('Energy level upon which we should perform the perturbation: ')))\n",
    "omega = sympify(input('Angular frequency, 1 is suggested: '))\n",
    "#Unperturbed wavefunctions\n",
    "wavefuncn = psi_n(n, x, m_e, omega)\n",
    "\n",
    "#Energía previa a la perturbación\n",
    "E0 = E_n(n, omega)\n",
    "#Necesitamos definir un nuevo hamiltoniano. Este debe contener el original y agregar la perturbación\n",
    "\n",
    "H = ((-hbar**2)/(2*m_e)*diff(wavefuncn, x, 2) + wavefuncn*(m_e*(omega*x)**2)/2) + wavefuncn*sympify(input('Perturbation: '))\n",
    "\n",
    "#Energy of the unperturbed H.O. Hamiltonian\n",
    "E0 = E_n(n, omega)\n",
    "E0\n",
    "\n",
    "\n",
    "#here we perform the inner product integral\n",
    "innerproduct = conjugate(wavefuncn)*H                                  \n",
    "E = integrate(innerproduct, (x, -oo,oo))\n",
    "PorcErr = (((E-E0)*100)/E0)\n",
    "\n",
    "E"
   ]
  },
  {
   "cell_type": "markdown",
   "metadata": {},
   "source": [
    "Y la corrección a la función de onda, también a primer orden, se obtiene como:\n",
    "\n",
    " $$ \\psi_{n}^{(1)} = \\sum_{m\\neq n} \\frac{\\langle\\psi_{m}^{(0)} | H' | \\psi_{n}^{(0)} \\rangle}{E_{n}^{(0)} - E_{m}^{(0)}} \\psi_{m}^{(0)}$$"
   ]
  },
  {
   "cell_type": "markdown",
   "metadata": {},
   "source": [
    "**Tarea 2: Programar esta ecuación si conoces $H^{0}$ y sus soluciones. **"
   ]
  },
  {
   "cell_type": "code",
   "execution_count": 17,
   "metadata": {
    "collapsed": false,
    "scrolled": true
   },
   "outputs": [
    {
     "name": "stdout",
     "output_type": "stream",
     "text": [
      "Energy level for which we are going to calculate the corrected wavefunction: 1\n",
      "Highest energy level we are going to consider:1\n",
      "Angular frequency, 1 is suggested: 2\n",
      "Perturbation: x\n"
     ]
    },
    {
     "data": {
      "image/png": "[encoded data removed]",
      "text/plain": [
       "<matplotlib.figure.Figure at 0x117a15240>"
      ]
     },
     "metadata": {},
     "output_type": "display_data"
    },
    {
     "data": {
      "text/plain": [
       "<sympy.plotting.plot.Plot at 0x10e584f28>"
      ]
     },
     "execution_count": 17,
     "metadata": {},
     "output_type": "execute_result"
    }
   ],
   "source": [
    "### Solución\n",
    "#Importar de sympy el hamiltoniano y eigenfunciones para el oscilador armónico cuántico\n",
    "from sympy.physics.qho_1d import psi_n\n",
    "from sympy.physics.qho_1d import E_n\n",
    "from sympy import *\n",
    "from sympy import init_printing; init_printing(use_latex = 'mathjax')\n",
    "\n",
    "n, m, m_e, omega, hbar = symbols('n m m_e omega hbar', real = True, constant = True)\n",
    "var('x')\n",
    "\n",
    "m_e = 9.10938356e-31\n",
    "#Necesitamos seleccionar un nivel energético, sobre el cual realizar la corrección debida a la perturbación\n",
    "n = Abs(sympify(input('Energy level for which we are going to calculate the corrected wavefunction: ')))\n",
    "i= Abs(sympify(input('Highest energy level we are going to consider:')))\n",
    "omega = sympify(input('Angular frequency, 1 is suggested: '))\n",
    "#Unperturbed wavefunctions\n",
    "wavefuncn = psi_n(n, x, m_e, omega)\n",
    "\n",
    "#Energía previa a la perturbación\n",
    "E0 = E_n(n, omega)\n",
    "\n",
    "#Necesitamos definir un nuevo hamiltoniano. Este debe contener el original y agregar la perturbación\n",
    "\n",
    "H =  wavefuncn*sympify(input('Perturbation: '))\n",
    "\n",
    "#Energy of the unperturbed H.O. Hamiltonian\n",
    "E0 = E_n(n, omega)\n",
    "psicorr = 0\n",
    "\n",
    "for m in range(i):\n",
    "    if m !=n:\n",
    "        psim= psi_n(m, x, m_e, omega)\n",
    "        product = conjugate(psim)*H\n",
    "        innerproduct = integrate(product, (x,-oo,oo))\n",
    "        Em = E_n(m, omega)\n",
    "        corr = ((innerproduct)/(E0-Em))*psim\n",
    "        psicorr = psicorr + corr\n",
    "    \n",
    "    \n",
    "    else:\n",
    "        psicorr = psicorr\n",
    "        \n",
    "#here we perform the inner product integral\n",
    "innerproduct = conjugate(wavefuncn)*H                                  \n",
    "E = E0 + integrate(innerproduct, (x, -oo,oo))\n",
    "Err = (((E-E0)*100)/E0)\n",
    "\n",
    "psipert = wavefuncn + psicorr\n",
    "psipert.evalf()\n",
    "psiplot = conjugate(psipert)*psipert\n",
    "E\n",
    "plot(psiplot,(x,-0.1,0.1))"
   ]
  },
  {
   "cell_type": "markdown",
   "metadata": {},
   "source": [
    "**Tarea 3: Investigue las soluciones a segundo orden y también programe las soluciones. **"
   ]
  },
  {
   "cell_type": "code",
   "execution_count": 21,
   "metadata": {
    "collapsed": false
   },
   "outputs": [
    {
     "name": "stdout",
     "output_type": "stream",
     "text": [
      "Energy level for which we are going to calculate the energy correction: 1\n",
      "Highest energy level we are going to consider for our calculations:10\n",
      "Angular frequency, 1 is suggested: 1\n",
      "Perturbation: x**3\n"
     ]
    },
    {
     "data": {
      "text/latex": [
       "$$- 1.17409001625997 \\cdot 10^{91} \\hbar^{2} - \\frac{\\hbar^{2}}{\\pi} 1.883130520616 \\cdot 10^{59} + \\frac{3 \\hbar}{2}$$"
      ],
      "text/plain": [
       "                                                2      \n",
       "                        2   1.883130520616e+59⋅ℏ    3⋅ℏ\n",
       "- 1.17409001625997e+91⋅ℏ  - ───────────────────── + ───\n",
       "                                      π              2 "
      ]
     },
     "execution_count": 21,
     "metadata": {},
     "output_type": "execute_result"
    }
   ],
   "source": [
    "### Solución\n",
    "#La forma es extremadamente similar para la corrección de la energía a segundo orden. Solo trabajamos con energía\n",
    "#en vez de funciones de onda.\n",
    "#Importar de sympy el hamiltoniano y eigenfunciones para el oscilador armónico cuántico\n",
    "from sympy.physics.qho_1d import psi_n\n",
    "from sympy.physics.qho_1d import E_n\n",
    "from sympy import *\n",
    "from sympy import init_printing; init_printing(use_latex = 'mathjax')\n",
    "\n",
    "n, m, m_e, omega, hbar = symbols('n m m_e omega hbar', real = True, constant = True)\n",
    "var('x')\n",
    "\n",
    "m_e = 9.10938356e-31\n",
    "#Necesitamos seleccionar un nivel energético, sobre el cual realizar la corrección debida a la perturbación\n",
    "n = Abs(sympify(input('Energy level for which we are going to calculate the energy correction: ')))\n",
    "i= Abs(sympify(input('Highest energy level we are going to consider for our calculations:')))\n",
    "omega = sympify(input('Angular frequency, 1 is suggested: '))\n",
    "#Unperturbed wavefunctions\n",
    "wavefuncn = psi_n(n, x, m_e, omega)\n",
    "\n",
    "#Energía previa a la perturbación\n",
    "E0 = E_n(n, omega)\n",
    "\n",
    "#Necesitamos definir un nuevo hamiltoniano. Este debe agregar la perturbación\n",
    "\n",
    "H =  wavefuncn*sympify(input('Perturbation: '))\n",
    "\n",
    "integrandoprimerorden = conjugate(wavefuncn)*H\n",
    "primerorden = integrate (integrandoprimerorden, (x,-oo,oo))\n",
    "#Energy of the unperturbed H.O. Hamiltonian\n",
    "E0 = E_n(n, omega)\n",
    "Ecorr = 0\n",
    "\n",
    "#La primera parte de la corrección a 2º orden es la de primer orden\n",
    "\n",
    "\n",
    "for m in range(i):\n",
    "    if m !=n:\n",
    "        psim= psi_n(m, x, m_e, omega)\n",
    "        product = conjugate(psim)*H\n",
    "        innerproduct = integrate(product, (x,-oo,oo))\n",
    "        Em = E_n(m, omega)\n",
    "        corr = ((innerproduct)**2/(E0-Em))\n",
    "        Ecorr = Ecorr + corr\n",
    "    \n",
    "    \n",
    "    else:\n",
    "        Ecorr = Ecorr\n",
    "        \n",
    "#here we perform the inner product integral\n",
    "#innerproduct = conjugate(wavefuncn)*H                                  \n",
    "#E = E0 + integrate(innerproduct, (x, -oo,oo))\n",
    "#Err = (((E-E0)*100)/E0)\n",
    "\n",
    "#psipert = wavefuncn + psicorr\n",
    "#psiplot = conjugate(psipert)*psipert\n",
    "\n",
    "\n",
    "E = E0 + primerorden + Ecorr\n",
    "\n",
    "E\n",
    "#plot(psiplot,(x,-0.1,0.1))\n",
    "\n"
   ]
  },
  {
   "cell_type": "markdown",
   "metadata": {},
   "source": [
    "**Tarea 4.  Resolver el átomo de helio aplicando los programas anteriores.** "
   ]
  },
  {
   "cell_type": "code",
   "execution_count": 19,
   "metadata": {
    "collapsed": false
   },
   "outputs": [
    {
     "data": {
      "text/latex": [
       "$$- \\frac{3}{8}$$"
      ],
      "text/plain": [
       "-3/8"
      ]
     },
     "execution_count": 19,
     "metadata": {},
     "output_type": "execute_result"
    }
   ],
   "source": [
    "from sympy.physics.hydrogen import R_nl\n",
    "from sympy.physics.hydrogen import E_nl\n",
    "from sympy import *\n",
    "from sympy import init_printing; init_printing(use_latex = 'mathjax')\n",
    "\n",
    "n1, n2, l1, l2, m, m_e, hbar, Z = symbols('n1 n2 l1 l2 m m_e hbar Z', real = True, constant = True)\n",
    "\n",
    "\n",
    "var('r1 r2 theta1 theta2 phi1 phi2')\n",
    "\n",
    "Z = 1\n",
    "\n",
    "n1 = 1\n",
    "l1 = 0\n",
    "n2 = 1\n",
    "l2 = 0\n",
    "\n",
    "#We now introduce our unperturbed wavefunctions\n",
    "WF1 = R_nl(n1, l1, r1, Z)\n",
    "\n",
    "WF2 = R_nl(n2, l2, r2, Z)\n",
    "\n",
    "#And the unperturbed energies:\n",
    "E0 = 2* E_nl(n1, Z) #Since both electrons are in the ground state\n",
    "\n",
    "#We need to define a term for the distance between the two elefctrons\n",
    "\n",
    "r12 = abs(r1-r2)\n",
    "#The perturbed hamiltonian is given by\n",
    "Hpert = 1/r12\n",
    "\n",
    "#We now introduce the argument for the innerproduct\n",
    "\n",
    "innerproductarg = integrate(((r1**2)/(r2)*WF1**2), (r1, 0, r2)) + integrate((r1*WF1**2), (r1, r2, oo))\n",
    "\n",
    "\n",
    "\n",
    "Epert = integrate((innerproductarg*r2**2*WF2**2), (r2, 0, oo))\n",
    "\n",
    "Epert\n",
    "\n",
    "Etot = E0 + Epert\n",
    "\n",
    "Etot"
   ]
  },
  {
   "cell_type": "markdown",
   "metadata": {},
   "source": [
    "**Tarea 5: Método variacional-perturbativo. **"
   ]
  },
  {
   "cell_type": "markdown",
   "metadata": {},
   "source": [
    "Este método nos permite estimar de forma precisa $E^{(2)}$ y correcciones perturbativas de la energía de órdenes más elevados para el estado fundamental del sistema, sin evaluar sumas infinitas. Ver ecuación 9.38 del libro. "
   ]
  },
  {
   "cell_type": "markdown",
   "metadata": {},
   "source": [
    "**Resolver el átomo de helio, considerando este método (sección 9.4), como mejor le parezca. **"
   ]
  },
  {
   "cell_type": "markdown",
   "metadata": {},
   "source": [
    "**Tarea 6. Revisar sección 9.7. **\n",
    "\n",
    "Inicialmente a mano, y sengunda instancia favor de intentar programar sección del problema, i.e. integral de Coulomb  e integral de intercambio."
   ]
  },
  {
   "cell_type": "markdown",
   "metadata": {},
   "source": [
    "## Siguiente: Segunda parte, Octubre\n",
    "Simetrías moleculares y Hartree-Fock"
   ]
  },
  {
   "cell_type": "code",
   "execution_count": 2,
   "metadata": {
    "collapsed": false
   },
   "outputs": [
    {
     "ename": "NameError",
     "evalue": "name 'pi' is not defined",
     "output_type": "error",
     "traceback": [
      "\u001b[0;31m---------------------------------------------------------------------------\u001b[0m",
      "\u001b[0;31mNameError\u001b[0m                                 Traceback (most recent call last)",
      "\u001b[0;32m<ipython-input-2-68f7b1e53523>\u001b[0m in \u001b[0;36m<module>\u001b[0;34m()\u001b[0m\n\u001b[0;32m----> 1\u001b[0;31m \u001b[0mpi\u001b[0m\u001b[0;34m\u001b[0m\u001b[0m\n\u001b[0m",
      "\u001b[0;31mNameError\u001b[0m: name 'pi' is not defined"
     ]
    }
   ],
   "source": []
  },
  {
   "cell_type": "code",
   "execution_count": null,
   "metadata": {
    "collapsed": true
   },
   "outputs": [],
   "source": []
  }
 ],
 "metadata": {
  "kernelspec": {
   "display_name": "Python 3",
   "language": "python",
   "name": "python3"
  },
  "language_info": {
   "codemirror_mode": {
    "name": "ipython",
    "version": 3
   },
   "file_extension": ".py",
   "mimetype": "text/x-python",
   "name": "python",
   "nbconvert_exporter": "python",
   "pygments_lexer": "ipython3",
   "version": "3.6.0"
  }
 },
 "nbformat": 4,
 "nbformat_minor": 0
}
